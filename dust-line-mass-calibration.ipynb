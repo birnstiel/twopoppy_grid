{
 "cells": [
  {
   "cell_type": "markdown",
   "metadata": {},
   "source": [
    "# Dust-line Mass calibration"
   ]
  },
  {
   "cell_type": "markdown",
   "metadata": {},
   "source": [
    "The surface density estimate after Powell et al. 2017 but accounting properly for pre-factors is\n",
    "\n",
    "$$\\Sigma_\\mathsf{g} = \\frac{\\gamma}{2} \\frac{t_\\mathsf{disk}\\, v_0 \\, \\rho_\\mathsf{s} \\, \\lambda}{r}$$"
   ]
  },
  {
   "cell_type": "markdown",
   "metadata": {},
   "source": [
    "## Setup"
   ]
  },
  {
   "cell_type": "code",
   "execution_count": null,
   "metadata": {
    "tags": []
   },
   "outputs": [],
   "source": [
    "from pathlib import Path\n",
    "\n",
    "import h5py\n",
    "import numpy as np\n",
    "import matplotlib.pyplot as plt\n",
    "import pandas as pd\n",
    "import corner\n",
    "\n",
    "import dipsy\n",
    "import estimator\n",
    "import analysis_mass\n",
    "\n",
    "M_sun = dipsy.cgs_constants.M_sun\n",
    "year = dipsy.cgs_constants.year\n",
    "au = dipsy.cgs_constants.au\n",
    "year = dipsy.cgs_constants.year\n",
    "lams = analysis_mass.lams"
   ]
  },
  {
   "cell_type": "markdown",
   "metadata": {},
   "source": [
    "Define constants"
   ]
  },
  {
   "cell_type": "code",
   "execution_count": null,
   "metadata": {},
   "outputs": [],
   "source": [
    "flux_fraction = 0.68"
   ]
  },
  {
   "cell_type": "code",
   "execution_count": null,
   "metadata": {},
   "outputs": [],
   "source": [
    "fname = 'dustlines.hdf5'"
   ]
  },
  {
   "cell_type": "code",
   "execution_count": null,
   "metadata": {},
   "outputs": [],
   "source": [
    "t_disk = 3e6 * year"
   ]
  },
  {
   "cell_type": "markdown",
   "metadata": {},
   "source": [
    "## Load a simulation"
   ]
  },
  {
   "cell_type": "markdown",
   "metadata": {},
   "source": [
    "Get number of simulations"
   ]
  },
  {
   "cell_type": "code",
   "execution_count": null,
   "metadata": {},
   "outputs": [],
   "source": [
    "with h5py.File(fname, 'r') as fh:\n",
    "    n_sim = len(fh)"
   ]
  },
  {
   "cell_type": "markdown",
   "metadata": {},
   "source": [
    "**Pick a random model**"
   ]
  },
  {
   "cell_type": "code",
   "execution_count": null,
   "metadata": {},
   "outputs": [],
   "source": [
    "key = f'{int(n_sim * np.random.rand()):07d}'\n",
    "# key = '0006370'\n",
    "print(key)"
   ]
  },
  {
   "cell_type": "markdown",
   "metadata": {},
   "source": [
    "**load the simulation**"
   ]
  },
  {
   "cell_type": "code",
   "execution_count": null,
   "metadata": {},
   "outputs": [],
   "source": [
    "# actual simulation\n",
    "sim = dipsy.utils.read_from_hdf5(fname, key)\n",
    "it = sim['time'].searchsorted(t_disk)"
   ]
  },
  {
   "cell_type": "markdown",
   "metadata": {},
   "source": [
    "## Fitting for dust lines"
   ]
  },
  {
   "cell_type": "markdown",
   "metadata": {},
   "source": [
    "### Fitting using the function"
   ]
  },
  {
   "cell_type": "code",
   "execution_count": null,
   "metadata": {},
   "outputs": [],
   "source": [
    "settings = {\n",
    "    'time': t_disk,    \n",
    "    'q' : 3.5,\n",
    "    'flux_fraction': 0.68,\n",
    "    'fname_in' : fname,\n",
    "    'fname_out' : 'test.hdf5',\n",
    "    'opac' : dipsy.Opacity(input='ricci_compact.npz'),\n",
    "    'fct_nr' : 3,\n",
    "}"
   ]
  },
  {
   "cell_type": "code",
   "execution_count": null,
   "metadata": {},
   "outputs": [],
   "source": [
    "import analysis_mass"
   ]
  },
  {
   "cell_type": "code",
   "execution_count": null,
   "metadata": {},
   "outputs": [],
   "source": [
    "res = analysis_mass.parallel_analyze(key, settings=settings, debug=True, progress=True, n_burnin=400, n_steps=1500)"
   ]
  },
  {
   "cell_type": "markdown",
   "metadata": {},
   "source": [
    "### Test the parameter guess"
   ]
  },
  {
   "cell_type": "code",
   "execution_count": null,
   "metadata": {},
   "outputs": [],
   "source": [
    "from importlib import reload\n",
    "reload(estimator)"
   ]
  },
  {
   "cell_type": "code",
   "execution_count": null,
   "metadata": {},
   "outputs": [],
   "source": [
    "obs = dipsy.get_observables(\n",
    "    sim['r'],\n",
    "    sim['sig_g'][it],\n",
    "    sim['sig_d'][it],\n",
    "    sim['a_max'][it],\n",
    "    sim['T'][it],\n",
    "    settings['opac'],\n",
    "    lams,\n",
    ")"
   ]
  },
  {
   "cell_type": "code",
   "execution_count": null,
   "metadata": {},
   "outputs": [],
   "source": [
    "dipsy.fortran.crop=1e-10\n",
    "ilam = 2\n",
    "\n",
    "x = sim['r'] / au\n",
    "y = obs.I_nu[ilam]\n",
    "mask = x>1\n",
    "x = x[mask]\n",
    "y = y[mask]\n",
    "p_guess, di = estimator.guess(x, y, 10, debug=True)"
   ]
  },
  {
   "cell_type": "code",
   "execution_count": null,
   "metadata": {},
   "outputs": [],
   "source": [
    "f, ax = plt.subplots(2, 1, sharex=True, figsize=(8,8))\n",
    "\n",
    "ax[0].loglog(x, y, 'k', lw=2)\n",
    "for _p in p_guess:\n",
    "    ax[0].loglog(x , dipsy.fortran.pwr2_logit(_p, x), 'g', alpha=0.5, lw=1)\n",
    "    print('{:.2f}'.format(dipsy.fortran.lnp_pwr2_logit(_p, x, y)))\n",
    "\n",
    "ax[1].semilogx(di['x'], di['exponent2'])\n",
    "\n",
    "ax[1].axvline(di['r_dust'], c='r', lw=1, label=r'$r_\\mathrm{dust}$')\n",
    "ax[1].axvline(di['r_out'], c='k', lw=2, label=r'$r_\\mathrm{out}$')\n",
    "for _r in di['r_list']:\n",
    "    ax[1].axvline(_r, c='k', lw=1, ls=':')\n",
    "    \n",
    "ax[1].legend()\n",
    "ax[1].set_xlim(left=1);\n",
    "ax[0].set_ylim(dipsy.fortran.crop, 1e4);"
   ]
  },
  {
   "cell_type": "markdown",
   "metadata": {},
   "source": [
    "## Analyze results of the fitting"
   ]
  },
  {
   "cell_type": "code",
   "execution_count": null,
   "metadata": {},
   "outputs": [],
   "source": [
    "print(f\"Mass off by factor of {res['M_est']/res['M_gas']:.2g}\")\n",
    "\n",
    "x = sim['r'] / au\n",
    "\n",
    "fig = plt.figure(constrained_layout=True, figsize=(12, 5))\n",
    "gs = fig.add_gridspec(4, 4)\n",
    "ax = fig.add_subplot(gs[:4, :2])\n",
    "ax.set_xlabel(r'$r$ [au]')\n",
    "ax.set_ylabel(r'$I_\\nu$ [erg/(s cm$^2$ Hz sr)]')\n",
    "\n",
    "for ilam in np.arange(len(lams)):\n",
    "    \n",
    "    # find the best match\n",
    "    sampler = res['samplers'][ilam]\n",
    "    discard = res['discards'][ilam]\n",
    "    slice = sampler.lnprobability[:, discard:]\n",
    "    idx = np.unravel_index(slice.argmax(), slice.shape)\n",
    "    ln_best = slice[idx[0], idx[1]]\n",
    "    p_best  = sampler.chain[:, discard:, :][idx[0], idx[1], :]\n",
    "    _r_best = p_best[-1]\n",
    "    print(f'r_best = {_r_best:.2g} au')\n",
    "    \n",
    "    txt = f'$\\lambda = {lams[ilam] * 1e4:.0f}$ micron'\n",
    "    \n",
    "    # plot the model and determined dust line\n",
    "    \n",
    "    line, = ax.loglog(x, obs.I_nu[ilam], label=txt)\n",
    "    ax.axvline(_r_best, c=line.get_color(), ls=':')\n",
    "    \n",
    "    # plot the logp evolution\n",
    "    \n",
    "    col = ilam//2\n",
    "    row = ilam%2\n",
    "    ax2 = fig.add_subplot(gs[2+row, 2+col])\n",
    "    ax2.semilogy(-sampler.lnprobability.T, c='k', alpha=0.3);\n",
    "    ax2.set_ylim(top=1e5)\n",
    "    ax2.set_title(txt, {'color':line.get_color()})\n",
    "    ax2.set_xlabel('iteration #')\n",
    "    ax2.set_ylabel(r'$-\\log P$')\n",
    "    \n",
    "    # overplot the fit\n",
    "    \n",
    "    if settings['fct_nr'] == 3:\n",
    "        ym = dipsy.fortran.pwr2_logit(p_best, x)\n",
    "    elif settings['fct_nr'] == 1:\n",
    "        ym = dipsy.fortran.pwr1(p_best, x)\n",
    "    ax.loglog(x, ym, c=line.get_color(), ls='--')\n",
    "    \n",
    "\n",
    "ax.legend()\n",
    "ax.set_xlim(.05, 1e3)\n",
    "ax.set_ylim(dipsy.fortran.crop, 1e2);"
   ]
  },
  {
   "cell_type": "markdown",
   "metadata": {},
   "source": [
    "**Dust and gas surface densities from simulation and Powell method**"
   ]
  },
  {
   "cell_type": "code",
   "execution_count": null,
   "metadata": {},
   "outputs": [],
   "source": [
    "fig, ax = plt.subplots()\n",
    "ax.loglog(res['r_dust'], res['sig_g'], 'kx', label='Powell method')\n",
    "ax.loglog(sim['r'] / au, sim['sig_g'][it], '-', label='simulation, gas')\n",
    "ax.loglog(sim['r'] / au, sim['sig_d'][it], '-', label='simulation, dust')\n",
    "ax.legend()\n",
    "ax.set_ylim(1e-7, 1e4)\n",
    "ax.set_xlabel(r'$r$ [au]')\n",
    "ax.set_ylabel(r'$\\Sigma$ [g/cm$^2$]');"
   ]
  }
 ],
 "metadata": {
  "kernelspec": {
   "display_name": "Python 3",
   "language": "python",
   "name": "python3"
  },
  "language_info": {
   "codemirror_mode": {
    "name": "ipython",
    "version": 3
   },
   "file_extension": ".py",
   "mimetype": "text/x-python",
   "name": "python",
   "nbconvert_exporter": "python",
   "pygments_lexer": "ipython3",
   "version": "3.8.5"
  },
  "toc-autonumbering": false,
  "toc-showcode": false,
  "toc-showmarkdowntxt": false
 },
 "nbformat": 4,
 "nbformat_minor": 4
}
