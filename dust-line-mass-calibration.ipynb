{
 "cells": [
  {
   "cell_type": "markdown",
   "metadata": {},
   "source": [
    "# Dust-line Mass calibration"
   ]
  },
  {
   "cell_type": "code",
   "execution_count": 6,
   "metadata": {},
   "outputs": [],
   "source": [
    "import pickle\n",
    "\n",
    "import numpy as np\n",
    "import matplotlib.pyplot as plt\n",
    "import pandas as pd"
   ]
  },
  {
   "cell_type": "code",
   "execution_count": 2,
   "metadata": {},
   "outputs": [],
   "source": [
    "import dipsy\n",
    "\n",
    "from dipsy.data_frame_functions import filter_function\n",
    "from dipsy.data_frame_functions import get_param_values\n",
    "from dipsy.data_frame_functions import histogram1d_normalized\n",
    "from dipsy.data_frame_functions import histogram2D\n",
    "from dipsy.data_frame_functions import histogram_corner"
   ]
  },
  {
   "cell_type": "markdown",
   "metadata": {},
   "source": [
    "Define constants"
   ]
  },
  {
   "cell_type": "code",
   "execution_count": 3,
   "metadata": {},
   "outputs": [],
   "source": [
    "year = dipsy.cgs_constants.year"
   ]
  },
  {
   "cell_type": "code",
   "execution_count": 4,
   "metadata": {},
   "outputs": [],
   "source": [
    "fname = '/scratch/users/zormpas/remote/notebooks/df_riccardo.pickle'"
   ]
  },
  {
   "cell_type": "code",
   "execution_count": 7,
   "metadata": {},
   "outputs": [],
   "source": [
    "with open(fname, 'rb') as fid:\n",
    "    df = pickle.load(fid)\n",
    "\n",
    "d = df['smooth']"
   ]
  },
  {
   "cell_type": "code",
   "execution_count": 9,
   "metadata": {},
   "outputs": [
    {
     "data": {
      "text/html": [
       "<div>\n",
       "<style scoped>\n",
       "    .dataframe tbody tr th:only-of-type {\n",
       "        vertical-align: middle;\n",
       "    }\n",
       "\n",
       "    .dataframe tbody tr th {\n",
       "        vertical-align: top;\n",
       "    }\n",
       "\n",
       "    .dataframe thead th {\n",
       "        text-align: right;\n",
       "    }\n",
       "</style>\n",
       "<table border=\"1\" class=\"dataframe\">\n",
       "  <thead>\n",
       "    <tr style=\"text-align: right;\">\n",
       "      <th></th>\n",
       "      <th>#</th>\n",
       "      <th>alpha</th>\n",
       "      <th>Mdisk</th>\n",
       "      <th>r_c</th>\n",
       "      <th>v_frag</th>\n",
       "      <th>M_star</th>\n",
       "      <th>rf_t</th>\n",
       "      <th>flux_t</th>\n",
       "      <th>sig_d</th>\n",
       "      <th>sig_g</th>\n",
       "      <th>Md</th>\n",
       "      <th>ID</th>\n",
       "    </tr>\n",
       "  </thead>\n",
       "  <tbody>\n",
       "    <tr>\n",
       "      <th>0</th>\n",
       "      <td>0</td>\n",
       "      <td>0.0001</td>\n",
       "      <td>0.010536</td>\n",
       "      <td>30</td>\n",
       "      <td>1600</td>\n",
       "      <td>0.200000</td>\n",
       "      <td>[102.01696857891835, 102.01706092742009, 102.0...</td>\n",
       "      <td>[0.08880216704339142, 0.08880237551465998, 0.0...</td>\n",
       "      <td>[[1.87072509e+001 1.82207527e+001 1.77468839e+...</td>\n",
       "      <td>[[1.87072509e+003 1.82207527e+003 1.77468839e+...</td>\n",
       "      <td>0.05270</td>\n",
       "      <td>4170</td>\n",
       "    </tr>\n",
       "    <tr>\n",
       "      <th>1</th>\n",
       "      <td>0</td>\n",
       "      <td>0.0005</td>\n",
       "      <td>0.003246</td>\n",
       "      <td>30</td>\n",
       "      <td>200</td>\n",
       "      <td>0.258310</td>\n",
       "      <td>[98.17778037376259, 98.17814871492052, 98.1781...</td>\n",
       "      <td>[0.05017129190660231, 0.05017124535444855, 0.0...</td>\n",
       "      <td>[[7.44356668e+000 7.24999029e+000 7.06143915e+...</td>\n",
       "      <td>[[7.44356668e+002 7.24999029e+002 7.06143915e+...</td>\n",
       "      <td>0.01260</td>\n",
       "      <td>22101</td>\n",
       "    </tr>\n",
       "    <tr>\n",
       "      <th>2</th>\n",
       "      <td>0</td>\n",
       "      <td>0.0005</td>\n",
       "      <td>0.010536</td>\n",
       "      <td>150</td>\n",
       "      <td>200</td>\n",
       "      <td>0.430887</td>\n",
       "      <td>[494.4999613884066, 494.49662975446466, 494.49...</td>\n",
       "      <td>[0.1264543981826394, 0.1264545611534845, 0.126...</td>\n",
       "      <td>[[8.06072760e+000 7.85139765e+000 7.64750189e+...</td>\n",
       "      <td>[[8.06072760e+002 7.85139765e+002 7.64750189e+...</td>\n",
       "      <td>0.02450</td>\n",
       "      <td>24603</td>\n",
       "    </tr>\n",
       "    <tr>\n",
       "      <th>3</th>\n",
       "      <td>0</td>\n",
       "      <td>0.0001</td>\n",
       "      <td>0.003246</td>\n",
       "      <td>130</td>\n",
       "      <td>200</td>\n",
       "      <td>0.333620</td>\n",
       "      <td>[416.2805575973737, 416.26566397421425, 416.26...</td>\n",
       "      <td>[0.033754405771325297, 0.033756673430947494, 0...</td>\n",
       "      <td>[[2.21855542e+000 2.16093836e+000 2.10481704e+...</td>\n",
       "      <td>[[2.21855542e+002 2.16093836e+002 2.10481704e+...</td>\n",
       "      <td>0.00973</td>\n",
       "      <td>2502</td>\n",
       "    </tr>\n",
       "    <tr>\n",
       "      <th>4</th>\n",
       "      <td>0</td>\n",
       "      <td>0.0001</td>\n",
       "      <td>0.003246</td>\n",
       "      <td>10</td>\n",
       "      <td>1800</td>\n",
       "      <td>0.718763</td>\n",
       "      <td>[41.60667084521335, 41.606755936083495, 41.606...</td>\n",
       "      <td>[0.13737190461844662, 0.13737221825009888, 0.1...</td>\n",
       "      <td>[[6.21364739e+001 6.05148527e+001 5.89353299e+...</td>\n",
       "      <td>[[6.21364739e+003 6.05148527e+003 5.89353299e+...</td>\n",
       "      <td>0.00452</td>\n",
       "      <td>2085</td>\n",
       "    </tr>\n",
       "  </tbody>\n",
       "</table>\n",
       "</div>"
      ],
      "text/plain": [
       "   #   alpha     Mdisk  r_c  v_frag    M_star  \\\n",
       "0  0  0.0001  0.010536   30    1600  0.200000   \n",
       "1  0  0.0005  0.003246   30     200  0.258310   \n",
       "2  0  0.0005  0.010536  150     200  0.430887   \n",
       "3  0  0.0001  0.003246  130     200  0.333620   \n",
       "4  0  0.0001  0.003246   10    1800  0.718763   \n",
       "\n",
       "                                                rf_t  \\\n",
       "0  [102.01696857891835, 102.01706092742009, 102.0...   \n",
       "1  [98.17778037376259, 98.17814871492052, 98.1781...   \n",
       "2  [494.4999613884066, 494.49662975446466, 494.49...   \n",
       "3  [416.2805575973737, 416.26566397421425, 416.26...   \n",
       "4  [41.60667084521335, 41.606755936083495, 41.606...   \n",
       "\n",
       "                                              flux_t  \\\n",
       "0  [0.08880216704339142, 0.08880237551465998, 0.0...   \n",
       "1  [0.05017129190660231, 0.05017124535444855, 0.0...   \n",
       "2  [0.1264543981826394, 0.1264545611534845, 0.126...   \n",
       "3  [0.033754405771325297, 0.033756673430947494, 0...   \n",
       "4  [0.13737190461844662, 0.13737221825009888, 0.1...   \n",
       "\n",
       "                                               sig_d  \\\n",
       "0  [[1.87072509e+001 1.82207527e+001 1.77468839e+...   \n",
       "1  [[7.44356668e+000 7.24999029e+000 7.06143915e+...   \n",
       "2  [[8.06072760e+000 7.85139765e+000 7.64750189e+...   \n",
       "3  [[2.21855542e+000 2.16093836e+000 2.10481704e+...   \n",
       "4  [[6.21364739e+001 6.05148527e+001 5.89353299e+...   \n",
       "\n",
       "                                               sig_g       Md     ID  \n",
       "0  [[1.87072509e+003 1.82207527e+003 1.77468839e+...  0.05270   4170  \n",
       "1  [[7.44356668e+002 7.24999029e+002 7.06143915e+...  0.01260  22101  \n",
       "2  [[8.06072760e+002 7.85139765e+002 7.64750189e+...  0.02450  24603  \n",
       "3  [[2.21855542e+002 2.16093836e+002 2.10481704e+...  0.00973   2502  \n",
       "4  [[6.21364739e+003 6.05148527e+003 5.89353299e+...  0.00452   2085  "
      ]
     },
     "execution_count": 9,
     "metadata": {},
     "output_type": "execute_result"
    }
   ],
   "source": [
    "d.head()"
   ]
  },
  {
   "cell_type": "code",
   "execution_count": null,
   "metadata": {},
   "outputs": [],
   "source": []
  }
 ],
 "metadata": {
  "kernelspec": {
   "display_name": "Python 3",
   "language": "python",
   "name": "python3"
  },
  "language_info": {
   "codemirror_mode": {
    "name": "ipython",
    "version": 3
   },
   "file_extension": ".py",
   "mimetype": "text/x-python",
   "name": "python",
   "nbconvert_exporter": "python",
   "pygments_lexer": "ipython3",
   "version": "3.8.5"
  }
 },
 "nbformat": 4,
 "nbformat_minor": 4
}
