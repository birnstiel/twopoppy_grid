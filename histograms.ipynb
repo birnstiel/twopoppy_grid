{
 "cells": [
  {
   "cell_type": "markdown",
   "metadata": {},
   "source": [
    "# Histograms"
   ]
  },
  {
   "cell_type": "code",
   "execution_count": null,
   "metadata": {},
   "outputs": [],
   "source": [
    "import pickle\n",
    "\n",
    "import pandas as pd\n",
    "import numpy as np\n",
    "import matplotlib.pyplot as plt\n",
    "\n",
    "import dipsy"
   ]
  },
  {
   "cell_type": "code",
   "execution_count": null,
   "metadata": {},
   "outputs": [],
   "source": [
    "from dipsy.data import T17_Fmm_corr, T17_Reff_corr\n",
    "from dipsy.data_frame_functions import filter_function\n",
    "from dipsy.data_frame_functions import get_param_values\n",
    "from dipsy.data_frame_functions import histogram1d_normalized\n",
    "from dipsy.data_frame_functions import histogram2D\n",
    "from dipsy.data_frame_functions import histogram_corner"
   ]
  },
  {
   "cell_type": "markdown",
   "metadata": {},
   "source": [
    "Define constants"
   ]
  },
  {
   "cell_type": "code",
   "execution_count": null,
   "metadata": {},
   "outputs": [],
   "source": [
    "year = dipsy.cgs_constants.year"
   ]
  },
  {
   "cell_type": "markdown",
   "metadata": {},
   "source": [
    "# Define some more functions"
   ]
  },
  {
   "cell_type": "markdown",
   "metadata": {},
   "source": [
    "Test the correlations"
   ]
  },
  {
   "cell_type": "code",
   "execution_count": null,
   "metadata": {},
   "outputs": [],
   "source": [
    "t = dipsy.data.Tripathi2017()\n",
    "ref = np.logspace(1, 2.5, 50)"
   ]
  },
  {
   "cell_type": "markdown",
   "metadata": {},
   "source": [
    "# Load the data"
   ]
  },
  {
   "cell_type": "code",
   "execution_count": null,
   "metadata": {},
   "outputs": [],
   "source": [
    "with open('df_dict.pickle', 'rb') as fid:\n",
    "    df = pickle.load(fid)\n",
    "\n",
    "d = df['smooth_ricci']"
   ]
  },
  {
   "cell_type": "code",
   "execution_count": null,
   "metadata": {},
   "outputs": [],
   "source": [
    "d.head()"
   ]
  },
  {
   "cell_type": "markdown",
   "metadata": {},
   "source": [
    "# Process parameters"
   ]
  },
  {
   "cell_type": "markdown",
   "metadata": {},
   "source": [
    "define which keys are the parameters"
   ]
  },
  {
   "cell_type": "code",
   "execution_count": null,
   "metadata": {},
   "outputs": [],
   "source": [
    "param_names = ['v_frag', 'alpha', 'Mdisk', 'r_c', 'M_star']"
   ]
  },
  {
   "cell_type": "markdown",
   "metadata": {},
   "source": [
    "We also define the \"nice names\" of each parameter for the labels"
   ]
  },
  {
   "cell_type": "code",
   "execution_count": null,
   "metadata": {},
   "outputs": [],
   "source": [
    "param_label = {\n",
    "    'alpha': r'$\\alpha$',\n",
    "    'v_frag': r'$v_\\mathsf{frag}$',\n",
    "    'Mdisk': r'$M_\\mathsf{disk}$',\n",
    "    'M_star': r'$M_\\star$',\n",
    "    'r_c': r'$r_\\mathsf{c}$'\n",
    "}"
   ]
  },
  {
   "cell_type": "code",
   "execution_count": null,
   "metadata": {},
   "outputs": [],
   "source": [
    "param_values = get_param_values(d, param_names)"
   ]
  },
  {
   "cell_type": "code",
   "execution_count": null,
   "metadata": {},
   "outputs": [],
   "source": [
    "print('we have the following parameters:')\n",
    "for key, value in param_values.items():\n",
    "    print((key + f'({len(value)}):').ljust(15), end='')\n",
    "    print(', '.join([str(v) for v in value]))"
   ]
  },
  {
   "cell_type": "markdown",
   "metadata": {},
   "source": [
    "#### define the time array"
   ]
  },
  {
   "cell_type": "code",
   "execution_count": null,
   "metadata": {},
   "outputs": [],
   "source": [
    "time = np.hstack((0, np.logspace(1, 7, 200))) * year\n",
    "i0 = time.searchsorted(3e5 * year)\n",
    "i1 = time.searchsorted(3e6 * year)"
   ]
  },
  {
   "cell_type": "markdown",
   "metadata": {},
   "source": [
    "for the filtering below: how many sigma around the correlation do we allow?"
   ]
  },
  {
   "cell_type": "code",
   "execution_count": null,
   "metadata": {},
   "outputs": [],
   "source": [
    "n_sig = 2"
   ]
  },
  {
   "cell_type": "markdown",
   "metadata": {},
   "source": [
    "# Check the filter visually"
   ]
  },
  {
   "cell_type": "code",
   "execution_count": null,
   "metadata": {},
   "outputs": [],
   "source": [
    "i = 1 # which simulation to pick\n",
    "\n",
    "row = d.iloc[i]\n",
    "print(row)\n",
    "filter_function(d.iloc[i], i0=i0, i1=i1, alpha=[0.0001, 0.0006], M_star=0.4, corr=n_sig)"
   ]
  },
  {
   "cell_type": "code",
   "execution_count": null,
   "metadata": {},
   "outputs": [],
   "source": [
    "f, ax = t.plot_rosotti()\n",
    "ref = np.logspace(1, 2.5, 50)\n",
    "ax.plot(np.log10(ref), np.log10(T17_Fmm_corr(ref, sigma=n_sig)), 'k--')\n",
    "ax.plot(np.log10(ref), np.log10(T17_Fmm_corr(ref, sigma=-n_sig)), 'k--')\n",
    "ax.plot(np.log10(row['rf_t'][i0:i1]), np.log10(row['flux_t'][i0:i1]));"
   ]
  },
  {
   "cell_type": "markdown",
   "metadata": {},
   "source": [
    "## Now apply it"
   ]
  },
  {
   "cell_type": "markdown",
   "metadata": {},
   "source": [
    "We filter all simulations where the snapshots between `i0` and `i1` are within 2 sigma."
   ]
  },
  {
   "cell_type": "code",
   "execution_count": null,
   "metadata": {},
   "outputs": [],
   "source": [
    "f = lambda row: filter_function(row, i0=i0, i1=i1, corr=n_sig)\n",
    "res = d[d.apply(f, axis=1)]\n",
    "print(f'found {len(res)} matching simulations ({len(res) / len(d):.1%})')"
   ]
  },
  {
   "cell_type": "markdown",
   "metadata": {},
   "source": [
    "Plot 5 randomly picked tracks"
   ]
  },
  {
   "cell_type": "code",
   "execution_count": null,
   "metadata": {},
   "outputs": [],
   "source": [
    "f, ax = t.plot_rosotti()\n",
    "x = np.logspace(1, 2.5, 50)\n",
    "ax.plot(np.log10(x), np.log10(T17_Fmm_corr(x, sigma=n_sig)), 'k--')\n",
    "ax.plot(np.log10(x), np.log10(T17_Fmm_corr(x, sigma=-n_sig)), 'k--')\n",
    "\n",
    "for i in np.random.choice(np.arange(len(res)), 5):\n",
    "    row = res.iloc[i]\n",
    "    ax.plot(np.log10(row['rf_t'][i0:i1]), np.log10(row['flux_t'][i0:i1]))"
   ]
  },
  {
   "cell_type": "markdown",
   "metadata": {},
   "source": [
    "## 2D Histogram\n",
    "First, we plot a single 2D histogram"
   ]
  },
  {
   "cell_type": "code",
   "execution_count": null,
   "metadata": {},
   "outputs": [],
   "source": [
    "f = histogram2D(res, 'v_frag', 'Mdisk', param_values, param_label=param_label)\n",
    "f.savefig('histogram2D.pdf', transparent=True, bbox_inches='tight')"
   ]
  },
  {
   "cell_type": "markdown",
   "metadata": {},
   "source": [
    "## 1D histogram"
   ]
  },
  {
   "cell_type": "markdown",
   "metadata": {},
   "source": [
    "Next, let's collapse it in one dimension. Here we normalize to the number of simulations, so for every given value, we count how many total simulations there are (without applying the correlation-filter). This takes a bit of time, but should just return 10 000 if we have 100 000 simulations and 10 values for each parameter."
   ]
  },
  {
   "cell_type": "code",
   "execution_count": null,
   "metadata": {},
   "outputs": [],
   "source": [
    "x_name = 'v_frag'"
   ]
  },
  {
   "cell_type": "code",
   "execution_count": null,
   "metadata": {},
   "outputs": [],
   "source": [
    "n_sims = []\n",
    "for value in param_values[x_name]:\n",
    "    \n",
    "    f = lambda row: filter_function(row, **{x_name:value})\n",
    "    n_sims += [len(d[d.apply(f, axis=1)])]"
   ]
  },
  {
   "cell_type": "code",
   "execution_count": null,
   "metadata": {},
   "outputs": [],
   "source": [
    "f = histogram1d_normalized(res, x_name, param_values, param_label=param_label, n_sims=n_sims)\n",
    "f.savefig('histogram1D.pdf', transparent=True, bbox_inches='tight')"
   ]
  },
  {
   "cell_type": "markdown",
   "metadata": {},
   "source": [
    "# Corner plot of histograms"
   ]
  },
  {
   "cell_type": "code",
   "execution_count": null,
   "metadata": {},
   "outputs": [],
   "source": [
    "f = histogram_corner(res, param_values, param_label=param_label)\n",
    "f.savefig('histograms_corner.pdf', transparent=True, bbox_inches='tight')"
   ]
  }
 ],
 "metadata": {
  "kernelspec": {
   "display_name": "Python 3",
   "language": "python",
   "name": "python3"
  },
  "language_info": {
   "codemirror_mode": {
    "name": "ipython",
    "version": 3
   },
   "file_extension": ".py",
   "mimetype": "text/x-python",
   "name": "python",
   "nbconvert_exporter": "python",
   "pygments_lexer": "ipython3",
   "version": "3.8.5"
  }
 },
 "nbformat": 4,
 "nbformat_minor": 4
}
